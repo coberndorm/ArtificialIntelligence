{
 "cells": [
  {
   "cell_type": "code",
   "execution_count": null,
   "metadata": {},
   "outputs": [],
   "source": [
    "%pip install -r requirements.txt"
   ]
  },
  {
   "cell_type": "code",
   "execution_count": null,
   "metadata": {},
   "outputs": [],
   "source": [
    "#librerias\n",
    "import cv2\n",
    "import tensorflow_hub as hub\n",
    "import tensorflow as tf\n",
    "from matplotlib import pyplot as plt\n",
    "import numpy as np\n",
    "import os\n",
    "import glob\n"
   ]
  },
  {
   "cell_type": "code",
   "execution_count": null,
   "metadata": {},
   "outputs": [],
   "source": [
    "\n",
    "# video\n",
    "cam = cv2.VideoCapture(\"IMG_1196.mov\")\n",
    "\n",
    "currentframe = 0\n",
    "\n",
    "while (True):\n",
    "    ret, frame = cam.read()\n",
    "    if ret:\n",
    "        name = f'frames/frame{currentframe}.jpg'\n",
    "        cv2.imwrite(name, frame)\n",
    "        currentframe += 1\n",
    "    else:\n",
    "        break\n",
    "\n",
    "cam.release()\n",
    "cv2.destroyAllWindows()\n",
    "\n",
    "# pre-trained styleGAN\n",
    "model = hub.load(\n",
    "    'https://tfhub.dev/google/magenta/arbitrary-image-stylization-v1-256/2')\n",
    "\n",
    "\n",
    "def load_image(img_path):\n",
    "    img = tf.io.read_file(img_path)\n",
    "    img = tf.image.decode_image(img, channels=3)\n",
    "    img = tf.image.convert_image_dtype(img, tf.float32)\n",
    "    img = img[tf.newaxis, :]\n",
    "    return img\n",
    "\n",
    "# %%\n",
    "style_image = load_image('style1.jpeg')\n",
    "# plt.imshow(np.squeeze(style_image))\n",
    "# plt.show()\n",
    "\n",
    "frames_images = os.listdir('frames')\n",
    "for frame in range(len(frames_images)):\n",
    "    content_image = load_image(f'frames/frame{frame}.jpg')\n",
    "    # plt.imshow(np.squeeze(content_image))\n",
    "    # plt.show()\n",
    "    stylized_image = model(tf.constant(content_image), tf.constant(style_image))[0]\n",
    "    # plt.imshow(np.squeeze(stylized_image))\n",
    "    # plt.show()\n",
    "    cv2.imwrite(f'styled_frames/generated_frame{frame}.jpg',\n",
    "                cv2.cvtColor(np.squeeze(stylized_image)*255, cv2.COLOR_BGR2RGB))\n",
    "\n",
    "img_array = []\n",
    "for generated_frame in range(len(frames_images)):\n",
    "    img = cv2.imread(f'styled_frames/generated_frame{generated_frame}.jpg')\n",
    "    height, width, layers = img.shape\n",
    "    size = (width, height)\n",
    "    img_array.append(img)\n",
    "\n",
    "# out = cv2.VideoWriter('project.avi', cv2.VideoWriter_fourcc(*'DIVX'), 15, size)\n",
    "out = cv2.VideoWriter('styled_video.mp4', cv2.VideoWriter_fourcc(*'MP4V'), 15, size)\n",
    "\n",
    "for i in range(len(img_array)):\n",
    "    out.write(img_array[i])\n",
    "out.release()"
   ]
  },
  {
   "cell_type": "code",
   "execution_count": 1,
   "metadata": {},
   "outputs": [
    {
     "name": "stderr",
     "output_type": "stream",
     "text": [
      "OpenCV: FFMPEG: tag 0x5634504d/'MP4V' is not supported with codec id 12 and format 'mp4 / MP4 (MPEG-4 Part 14)'\n",
      "OpenCV: FFMPEG: fallback to use tag 0x7634706d/'mp4v'\n"
     ]
    }
   ],
   "source": [
    "import cv2\n",
    "import os\n",
    "\n",
    "frames_images = os.listdir('styled_frames')\n",
    "\n",
    "img_array = []\n",
    "for generated_frame in range(len(frames_images)):\n",
    "    img = cv2.imread(f'styled_frames/generated_frame{generated_frame}.jpg')\n",
    "    height, width, layers = img.shape\n",
    "    size = (width, height)\n",
    "    img_array.append(img)\n",
    "\n",
    "# out = cv2.VideoWriter('project.avi', cv2.VideoWriter_fourcc(*'DIVX'), 15, size)\n",
    "out = cv2.VideoWriter('styled_video.mp4', cv2.VideoWriter_fourcc(*'MP4V'), 15, size)\n",
    "\n",
    "for i in range(len(img_array)):\n",
    "    out.write(img_array[i])\n",
    "out.release()"
   ]
  }
 ],
 "metadata": {
  "kernelspec": {
   "display_name": "Python 3.11.0 64-bit",
   "language": "python",
   "name": "python3"
  },
  "language_info": {
   "codemirror_mode": {
    "name": "ipython",
    "version": 3
   },
   "file_extension": ".py",
   "mimetype": "text/x-python",
   "name": "python",
   "nbconvert_exporter": "python",
   "pygments_lexer": "ipython3",
   "version": "3.10.12"
  },
  "orig_nbformat": 4,
  "vscode": {
   "interpreter": {
    "hash": "aee8b7b246df8f9039afb4144a1f6fd8d2ca17a180786b69acc140d282b71a49"
   }
  }
 },
 "nbformat": 4,
 "nbformat_minor": 2
}
