{
 "cells": [
  {
   "cell_type": "code",
   "execution_count": 4,
   "metadata": {},
   "outputs": [
    {
     "ename": "ModuleNotFoundError",
     "evalue": "No module named 'code.dataManipulation'; 'code' is not a package",
     "output_type": "error",
     "traceback": [
      "\u001b[0;31m---------------------------------------------------------------------------\u001b[0m",
      "\u001b[0;31mModuleNotFoundError\u001b[0m                       Traceback (most recent call last)",
      "\u001b[1;32m/home/coberndorm/Documents/Semestre_IX/Artificial_Intelligence/MLP/autoencoder.ipynb Cell 1\u001b[0m line \u001b[0;36m1\n\u001b[0;32m----> <a href='vscode-notebook-cell:/home/coberndorm/Documents/Semestre_IX/Artificial_Intelligence/MLP/autoencoder.ipynb#W0sZmlsZQ%3D%3D?line=0'>1</a>\u001b[0m \u001b[39mfrom\u001b[39;00m \u001b[39mcode\u001b[39;00m\u001b[39m.\u001b[39;00m\u001b[39mdataManipulation\u001b[39;00m \u001b[39mimport\u001b[39;00m \u001b[39m*\u001b[39m\n\u001b[1;32m      <a href='vscode-notebook-cell:/home/coberndorm/Documents/Semestre_IX/Artificial_Intelligence/MLP/autoencoder.ipynb#W0sZmlsZQ%3D%3D?line=1'>2</a>\u001b[0m \u001b[39mfrom\u001b[39;00m \u001b[39mcode\u001b[39;00m\u001b[39m.\u001b[39;00m\u001b[39mactivationFunctions\u001b[39;00m \u001b[39mimport\u001b[39;00m \u001b[39m*\u001b[39m\n",
      "\u001b[0;31mModuleNotFoundError\u001b[0m: No module named 'code.dataManipulation'; 'code' is not a package"
     ]
    }
   ],
   "source": [
    "from code.dataManipulation import *\n",
    "from code.activationFunctions import *\n"
   ]
  },
  {
   "cell_type": "code",
   "execution_count": 8,
   "metadata": {},
   "outputs": [],
   "source": [
    "import code"
   ]
  },
  {
   "cell_type": "code",
   "execution_count": 9,
   "metadata": {},
   "outputs": [
    {
     "ename": "AttributeError",
     "evalue": "module 'code' has no attribute 'dataManipulation'",
     "output_type": "error",
     "traceback": [
      "\u001b[0;31m---------------------------------------------------------------------------\u001b[0m",
      "\u001b[0;31mAttributeError\u001b[0m                            Traceback (most recent call last)",
      "\u001b[1;32m/home/coberndorm/Documents/Semestre_IX/Artificial_Intelligence/MLP/autoencoder.ipynb Cell 3\u001b[0m line \u001b[0;36m1\n\u001b[0;32m----> <a href='vscode-notebook-cell:/home/coberndorm/Documents/Semestre_IX/Artificial_Intelligence/MLP/autoencoder.ipynb#W2sZmlsZQ%3D%3D?line=0'>1</a>\u001b[0m code\u001b[39m.\u001b[39;49mdataManipulation\u001b[39m.\u001b[39mtest()\n",
      "\u001b[0;31mAttributeError\u001b[0m: module 'code' has no attribute 'dataManipulation'"
     ]
    }
   ],
   "source": []
  }
 ],
 "metadata": {
  "kernelspec": {
   "display_name": ".venv",
   "language": "python",
   "name": "python3"
  },
  "language_info": {
   "codemirror_mode": {
    "name": "ipython",
    "version": 3
   },
   "file_extension": ".py",
   "mimetype": "text/x-python",
   "name": "python",
   "nbconvert_exporter": "python",
   "pygments_lexer": "ipython3",
   "version": "3.10.12"
  },
  "orig_nbformat": 4
 },
 "nbformat": 4,
 "nbformat_minor": 2
}
